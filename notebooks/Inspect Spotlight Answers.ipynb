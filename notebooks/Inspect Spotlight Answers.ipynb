{
 "cells": [
  {
   "cell_type": "code",
   "execution_count": 1,
   "metadata": {
    "collapsed": true
   },
   "outputs": [],
   "source": [
    "import numpy as np"
   ]
  },
  {
   "cell_type": "code",
   "execution_count": 6,
   "metadata": {
    "collapsed": false
   },
   "outputs": [],
   "source": [
    "preprocessed_data = np.load('../data/processed_data.npy')\n",
    "for entry in preprocessed_data.item().items():\n",
    "    if str(entry[0]) == '11d2e5f3-9a79-40a4-ae72-3b1447d076cc':\n",
    "        sample_event = entry[1]\n",
    "        break"
   ]
  },
  {
   "cell_type": "code",
   "execution_count": 8,
   "metadata": {
    "collapsed": false
   },
   "outputs": [],
   "source": [
    "#sample_event"
   ]
  },
  {
   "cell_type": "code",
   "execution_count": 9,
   "metadata": {
    "collapsed": true
   },
   "outputs": [],
   "source": [
    "spotlight_answers = np.load('../data/spotlight_responses.npy')"
   ]
  },
  {
   "cell_type": "code",
   "execution_count": 12,
   "metadata": {
    "collapsed": false
   },
   "outputs": [],
   "source": [
    "for entry in spotlight_answers.item().items():\n",
    "    if str(entry[0]) == '11d2e5f3-9a79-40a4-ae72-3b1447d076cc':\n",
    "        sample_spotlight = entry[1]\n",
    "        break"
   ]
  },
  {
   "cell_type": "code",
   "execution_count": 33,
   "metadata": {
    "collapsed": false
   },
   "outputs": [
    {
     "name": "stdout",
     "output_type": "stream",
     "text": [
      "Surface, Resources, Types\n",
      "surface: Ghazal\n",
      "resources: http://dbpedia.org/resource/Ghazal\n",
      "types: \n",
      "\n",
      "surface: DJ\n",
      "resources: http://dbpedia.org/resource/Disc_jockey\n",
      "types: \n",
      "\n",
      "surface: Berlin\n",
      "resources: http://dbpedia.org/resource/Berlin\n",
      "types: Schema:Place,DBpedia:Place,DBpedia:PopulatedPlace,DBpedia:Region,Schema:AdministrativeArea,DBpedia:AdministrativeRegion\n",
      "\n",
      "surface: Bundeswehr\n",
      "resources: http://dbpedia.org/resource/Bundeswehr\n",
      "types: DBpedia:Agent,Schema:Organization,DBpedia:Organisation,DBpedia:MilitaryUnit\n",
      "\n",
      "surface: Canada\n",
      "resources: http://dbpedia.org/resource/Canada\n",
      "types: Schema:Place,DBpedia:Place,DBpedia:PopulatedPlace,Schema:Country,DBpedia:Country\n",
      "\n",
      "surface: Sweden\n",
      "resources: http://dbpedia.org/resource/Sweden\n",
      "types: Schema:Place,DBpedia:Place,DBpedia:PopulatedPlace,Schema:Country,DBpedia:Country\n",
      "\n",
      "surface: Rome\n",
      "resources: http://dbpedia.org/resource/Rome\n",
      "types: Schema:Place,DBpedia:Place,DBpedia:PopulatedPlace,DBpedia:Settlement\n",
      "\n",
      "surface: Moscow\n",
      "resources: http://dbpedia.org/resource/Moscow\n",
      "types: Schema:Place,DBpedia:Place,DBpedia:PopulatedPlace,DBpedia:Region,Schema:AdministrativeArea,DBpedia:AdministrativeRegion\n",
      "\n",
      "surface: St Petersburg\n",
      "resources: http://dbpedia.org/resource/Saint_Petersburg\n",
      "types: Schema:Place,DBpedia:Place,DBpedia:PopulatedPlace,DBpedia:Region,Schema:AdministrativeArea,DBpedia:AdministrativeRegion\n",
      "\n",
      "surface: Holland\n",
      "resources: http://dbpedia.org/resource/Netherlands\n",
      "types: Schema:Place,DBpedia:Place,DBpedia:PopulatedPlace,Schema:Country,DBpedia:Country\n",
      "\n",
      "surface: France\n",
      "resources: http://dbpedia.org/resource/France\n",
      "types: Schema:Place,DBpedia:Place,DBpedia:PopulatedPlace,Schema:Country,DBpedia:Country\n",
      "\n",
      "surface: Robbie Williams\n",
      "resources: http://dbpedia.org/resource/Robbie_Williams\n",
      "types: Schema:MusicGroup,DBpedia:Agent,Schema:Person,Http://xmlns.com/foaf/0.1/Person,DBpedia:Person,DBpedia:Artist,DBpedia:MusicalArtist\n",
      "\n",
      "surface: Justin Timberlake\n",
      "resources: http://dbpedia.org/resource/Justin_Timberlake\n",
      "types: Schema:MusicGroup,DBpedia:Agent,Schema:Person,Http://xmlns.com/foaf/0.1/Person,DBpedia:Person,DBpedia:Artist,DBpedia:MusicalArtist\n",
      "\n"
     ]
    }
   ],
   "source": [
    "print('Surface, Resources, Types')\n",
    "for entry in sample_spotlight[0]:\n",
    "    for surface, vals in entry.items():\n",
    "        print('surface: {}'.format(surface))\n",
    "        print('resources: {}'.format(vals[0]))\n",
    "        print('types: {}'.format(vals[1]))\n",
    "        print()"
   ]
  },
  {
   "cell_type": "code",
   "execution_count": null,
   "metadata": {
    "collapsed": true
   },
   "outputs": [],
   "source": []
  }
 ],
 "metadata": {
  "kernelspec": {
   "display_name": "Python 3",
   "language": "python",
   "name": "python3"
  },
  "language_info": {
   "codemirror_mode": {
    "name": "ipython",
    "version": 3
   },
   "file_extension": ".py",
   "mimetype": "text/x-python",
   "name": "python",
   "nbconvert_exporter": "python",
   "pygments_lexer": "ipython3",
   "version": "3.4.5"
  }
 },
 "nbformat": 4,
 "nbformat_minor": 1
}
