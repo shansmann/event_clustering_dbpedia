{
 "cells": [
  {
   "cell_type": "code",
   "execution_count": 61,
   "metadata": {
    "collapsed": true
   },
   "outputs": [],
   "source": [
    "import numpy as np\n",
    "import logging\n",
    "import json\n",
    "import random\n",
    "from uuid import uuid4"
   ]
  },
  {
   "cell_type": "code",
   "execution_count": 2,
   "metadata": {
    "collapsed": true
   },
   "outputs": [],
   "source": [
    "def get_event_entry(data):\n",
    "    for key, value in data.item().items():\n",
    "        yield (key, value)"
   ]
  },
  {
   "cell_type": "code",
   "execution_count": 3,
   "metadata": {
    "collapsed": true
   },
   "outputs": [],
   "source": [
    "def get_spotlight_responses(event_data):\n",
    "    data = {}\n",
    "    failed = []\n",
    "    for i, (key, value) in enumerate(get_event_entry(event_data)):\n",
    "\n",
    "        relevant_entries = []\n",
    "\n",
    "        # concat words\n",
    "        text = ' '.join(value)\n"
   ]
  },
  {
   "cell_type": "code",
   "execution_count": 4,
   "metadata": {
    "collapsed": false
   },
   "outputs": [],
   "source": [
    "with open('../data/data.json') as data_file:\n",
    "    data = json.load(data_file)"
   ]
  },
  {
   "cell_type": "code",
   "execution_count": 13,
   "metadata": {
    "collapsed": true
   },
   "outputs": [],
   "source": [
    "preprocessed_data = np.load('../data/processed_data.npy')"
   ]
  },
  {
   "cell_type": "code",
   "execution_count": 146,
   "metadata": {
    "collapsed": false
   },
   "outputs": [
    {
     "data": {
      "text/plain": [
       "(UUID('11d2e5f3-9a79-40a4-ae72-3b1447d076cc'),\n",
       " ['Jean',\n",
       "  'Ghazal',\n",
       "  'DJ',\n",
       "  'Maxkei',\n",
       "  'Live',\n",
       "  'Berlin',\n",
       "  'Birth',\n",
       "  'Jazz music',\n",
       "  'Grandpa',\n",
       "  'Günter',\n",
       "  'Simply',\n",
       "  'Saxophonist',\n",
       "  'Clarinetist',\n",
       "  'Connection',\n",
       "  'Possibility',\n",
       "  'Years',\n",
       "  'Training',\n",
       "  'Love',\n",
       "  'Jazz',\n",
       "  'Freedom',\n",
       "  'Improvisation',\n",
       "  'Platform',\n",
       "  'Talent',\n",
       "  'Conclusion',\n",
       "  'Baccalaureate',\n",
       "  'Staff music corps',\n",
       "  'Bundeswehr',\n",
       "  'Honorable service',\n",
       "  'State receptions',\n",
       "  'Federal Republic of',\n",
       "  'Music festivals',\n",
       "  'Canada',\n",
       "  'Sweden',\n",
       "  'Rome',\n",
       "  'Moscow',\n",
       "  'St',\n",
       "  'Petersburg',\n",
       "  'Holland',\n",
       "  'France',\n",
       "  'Entertainment',\n",
       "  'Saxophone',\n",
       "  'Audience',\n",
       "  'Singer',\n",
       "  'Entertainer',\n",
       "  'Occur',\n",
       "  'Cooperation',\n",
       "  'Musicians',\n",
       "  'Example',\n",
       "  'Kool',\n",
       "  'the',\n",
       "  'Gear',\n",
       "  'Band',\n",
       "  'Robbie',\n",
       "  'Williams',\n",
       "  'Justin',\n",
       "  'Timberlake',\n",
       "  'Adaptability',\n",
       "  'Music directions',\n",
       "  'Value',\n",
       "  'Stylistics',\n",
       "  'Game',\n",
       "  'Artist',\n",
       "  'Musicians',\n",
       "  'Capital',\n",
       "  'Jens',\n",
       "  'Korodi',\n",
       "  'Bassist',\n",
       "  'Bandleader',\n",
       "  'You',\n",
       "  'are',\n",
       "  'most',\n",
       "  'cheerful',\n",
       "  'person',\n",
       "  'I',\n",
       "  'have',\n",
       "  'ever',\n",
       "  'met',\n",
       "  'Never',\n",
       "  'change',\n",
       "  'Diana',\n",
       "  'Berry',\n",
       "  'Singer',\n",
       "  'ADMISSION',\n",
       "  'FREE'])"
      ]
     },
     "execution_count": 146,
     "metadata": {},
     "output_type": "execute_result"
    }
   ],
   "source": [
    "random.choice(list(preprocessed_data.item().items()))"
   ]
  },
  {
   "cell_type": "code",
   "execution_count": 86,
   "metadata": {
    "collapsed": true
   },
   "outputs": [],
   "source": [
    "lookup = np.load('../data/event_lookup.npy')"
   ]
  },
  {
   "cell_type": "code",
   "execution_count": 147,
   "metadata": {
    "collapsed": false
   },
   "outputs": [
    {
     "name": "stdout",
     "output_type": "stream",
     "text": [
      "Jean Ghazal & DJ Maxkei Live\n"
     ]
    }
   ],
   "source": [
    "for entry in lookup:\n",
    "    if str(entry[0]) == '11d2e5f3-9a79-40a4-ae72-3b1447d076cc':\n",
    "        print(entry[1])"
   ]
  },
  {
   "cell_type": "code",
   "execution_count": null,
   "metadata": {
    "collapsed": true
   },
   "outputs": [],
   "source": []
  }
 ],
 "metadata": {
  "kernelspec": {
   "display_name": "Python 3",
   "language": "python",
   "name": "python3"
  },
  "language_info": {
   "codemirror_mode": {
    "name": "ipython",
    "version": 3
   },
   "file_extension": ".py",
   "mimetype": "text/x-python",
   "name": "python",
   "nbconvert_exporter": "python",
   "pygments_lexer": "ipython3",
   "version": "3.4.5"
  }
 },
 "nbformat": 4,
 "nbformat_minor": 1
}
