{
 "cells": [
  {
   "cell_type": "code",
   "execution_count": 1,
   "metadata": {
    "collapsed": true
   },
   "outputs": [],
   "source": [
    "import numpy as np"
   ]
  },
  {
   "cell_type": "code",
   "execution_count": 2,
   "metadata": {
    "collapsed": true
   },
   "outputs": [],
   "source": [
    "clouds = np.load('../data/eventclouds.npy')"
   ]
  },
  {
   "cell_type": "code",
   "execution_count": 17,
   "metadata": {
    "collapsed": false
   },
   "outputs": [
    {
     "name": "stdout",
     "output_type": "stream",
     "text": [
      "broader : ['CategoryOrganisationinternationaledelaFrancophonie', 'CategorySoccerplayersintheUnitedStatesbyclub', 'Category21stcenturyAmericanactors', 'CategoryHolycities', 'CategoryNorthernEurope', 'CategoryWikipediacategoriesnamedaftercapitals', 'CategoryEnglishlanguage', 'CategoryTakeThat', 'Category20thcenturymusicgenres', 'CategoryWorldMusicAwards', 'CategoryMusicinStaffordshire', 'CategoryGeographyoftheEuropeanUnion', 'CategoryWikipediacategoriesnamedafterEnglishpeople', 'CategoryDisneypeople', 'CategoryBritishOverseasTerritoriesandCrownDependencies', 'CategoryAmericanstylesofmusic', 'CategoryPakistanistylesofmusic', 'CategoryCommonwealthofNations', 'CategoryMemberstatesoftheOrganisationinternationaledelaFrancophonie', 'CategoryDancemusicbysubgenre', 'CategoryPortcitiesandtownsbyseaorocean', 'CategoryTheMickeyMouseClub', 'CategoryLiteraturebylanguage', 'CategoryRadiopersonalities', 'CategoryLuxembourgNetherlandsrelations', 'CategoryRegionsofEurope', 'CategoryPoliticsoftheNetherlands', 'CategoryAmericansingers', 'CategoryWorldHeritageSitesinAsia', 'Category21stcenturysingers', 'CategoryCitystates', 'CategoryAmericanhospitalitybusinesspeople', 'CategoryFederalcountries', 'CategorySportinStokeonTrent', 'CategoryKingdomoftheNetherlands', 'CategoryDancemusiciansbynationality', 'CategoryMemberstatesoftheCommonwealthofNations', 'Category20thcenturysingers', 'CategoryCoastsofRussia', 'CategoryTouristattractionsinRussia', 'CategorySoundproductiontechnology', 'CategoryAmericanpeoplebyoccupation', 'CategoryPhilanthropyintheUnitedStates', 'CategoryCountriesbylanguage', 'CategoryFootballclubsinStaffordshire', 'CategoryEnglishspeakingcountriesandterritories', 'CategoryCitiesinEurope', 'CategoryCapitolRecords', 'CategoryRestaurateursbynationality', 'CategoryEntertainmentoccupations', 'CategorySoundrecording', 'Category1867establishmentsinNorthAmerica', 'CategoryMilitaryhistorybycountry', 'CategoryAmericanvoiceactors', 'CategoryLiteraryterms', 'CategoryArabiclanguageculture', 'CategoryFrenchcolonialempire', 'CategoryPopulatedplacesbycenturyofestablishment', 'CategoryEnglishexpatriates', 'CategoryEnglishbusinesspeople', 'CategoryHistoricsitesinRussia', 'CategoryNarrativeforms', 'CategoryBritAwards', 'CategoryMalesingersongwritersbynationality', 'CategoryPopulatedplacesinRussia', 'CategoryFormsofgovernment', 'CategoryArabsociety', 'CategoryCountriesinEurope', 'CategoryChildsingersbynationality', 'CategoryBiblicalcities', 'CategoryAmericanpeopleofEnglishdescent', 'CategoryPeoplefromStaffordshire', 'CategoryPeopleofIrishdescent', 'CategoryMemberstatesoftheEuropeanUnion', 'CategoryAmericanproducers', 'CategoryStatesofGermany', 'CategoryHistoryofRome', 'CategoryEuroregions', 'CategoryBritishEmpire', 'CategoryMusiciansbygenre', 'CategoryAmericanentertainmentindustrybusinesspeople', 'CategoryFederalcitiesofRussia', 'CategoryPeoplefromTennesseebyoccupation', 'CategoryScandinavia', 'Category1147establishmentsinEurope', 'CategoryBritpop', 'CategoryBusinesspeoplebynationality', 'CategoryAmericanchildmusicians', 'CategorySonyBMG', 'CategoryG7', 'CategoryPlannedcities', 'CategoryAmericanfilmactors', 'CategoryNorthwesternFederalDistrict', 'CategoryEconomicregionsofEurope', 'CategoryEnglishmaleactorsbymedium', 'CategoryEnglishmalemusicians', 'CategoryEnglishmusiciansbygenre', 'CategoryArtsinPakistan', 'CategoryBritishmalefilmactors', 'CategoryArabculture', 'CategoryBenelux', 'CategoryArabicpoetry', 'CategoryHistoryofoverseasdepartmentscollectivitiesandterritoriesofFrance', 'CategoryMaledancersbynationality', 'CategoryCountries', 'CategoryPeoplebycityortowninEngland', 'CategoryPopsingersbynationality', 'CategoryMaldiviandiaspora', 'CategoryAmericanfoodindustrybusinesspeople', 'CategoryArabicliterature', 'CategoryAncientcityofRome', 'CategoryCountriesinNorthAmerica', 'CategorySovietUnioninWorldWarII', 'CategoryPerformingartsinIndia', 'CategoryPakistanipoetry', 'CategoryAmericanmaleactors', 'CategoryZombaGroupartists', 'CategoryEmmyAwardwinners', 'CategoryWikipediacategoriesnamedafterAmericanmusicians', 'CategoryPortcitiesandtownsbycountry', 'CategoryHiphopsingers', 'CategoryAmericanmalemusicians', 'CategoryRepublics', 'CategoryWikipediacategoriesnamedaftercountries', 'CategoryPortcitiesandtownsoftheAtlanticOcean', 'CategorySriLankandiaspora', 'CategoryMonarchies', 'CategoryReligiousplaces', 'CategoryEntertainmentinPakistan', 'CategoryPortcitiesinEurope', 'CategoryPeoplefromStokeonTrentdistrict', 'CategoryElectronicmusic', 'CategoryEnglishvoiceactors', 'CategoryNUTS1statisticalregionsoftheEuropeanUnion', 'CategoryTenorsbynationality', 'CategoryRhythmandbluessingersbynationality', 'CategoryFederalmonarchies', 'CategorySonyBMGartists', 'CategoryAmericanmusicpeople', 'CategoryConservationinItaly', 'CategoryGermaniclanguages', 'CategoryPeoplefromMemphisTennessee', 'CategoryPopulatedcoastalplacesbycountry', 'CategoryPortsandharboursofRussia', 'CategoryPrimetimeEmmyAwards', 'CategoryMilitaryofGermany', 'CategoryUnitedNations', 'CategoryAudioelectronics', 'CategoryWikipediacategoriesnamedafterfootballclubsinEngland', 'CategoryProtectedareasofRussia', 'CategoryAmericanmaleactorsbycentury', 'CategoryGovernmentinstitutions', 'CategoryGermanstatecapitals', 'CategoryPortcitiesinAsia', 'CategoryAmericanmalecomposers', 'CategorySwedishspeakingcountriesandterritories', 'CategoryArab', 'CategoryGeographyofEurope', 'CategoryWorldHeritageSitesbycountry', 'CategorySouthAsianmusic', 'CategoryHistoricalgeography', 'CategoryFormerEuropeancolonies', 'CategoryAmericanhiphopmusicians', 'CategoryArtsoccupations', 'CategoryMalesingersbynationality', 'CategoryEnglishmusiciansbycounty', 'CategoryArabiclanguageworks', 'CategoryEnglishlanguagemusic', 'CategoryRecordproducersbynationality', 'CategoryGovernoratesoftheRussianEmpire', 'CategoryMalefilmactorsbynationality', 'CategorySubdivisionsofFrance', 'CategoryRomancecountriesandterritories', 'CategoryMassmedia', 'CategoryWesternEurope', 'CategoryHanseaticLeague', 'CategoryWorldHeritageSitesinEurope', 'CategoryConservationinRussia', 'CategoryMemberstatesoftheCouncilofEurope', 'CategoryPoetics', 'CategoryWikipediamaintenance', 'CategoryNATO', 'CategoryCentralFederalDistrict', 'CategoryAmericandancers', 'CategoryPhilanthropistsbynationality', 'CategoryBritishpopsingers', 'CategoryMedievalcities', 'CategoryCapitalsinEurope', 'CategoryPopulatedplacesestablishedinthe8thcenturyBC', 'CategoryAmericansingersbygenre', 'CategoryCategoriesrequiringdiffusion', 'Category1147establishmentsinAsia', 'CategoryBuildingsandstructuresinRussia', 'CategoryAmericanmaleactorsbystate', 'CategoryWikipediaarticlelists', 'CategoryBroadcasting', 'CategoryDependentterritoriesofEuropeancountries', 'CategoryRomantownsandcities', 'CategoryBelgiumLuxembourgrelations', 'CategoryG20', 'CategoryCountriesbyformofgovernment', 'CategoryAmericanmalesongwriters', 'CategoryEnglishlanguageculture', 'CategoryLiterature', 'CategoryTerritorialentitiesinEurope', 'CategoryMilitaryhistoryofEuropebycountry', 'CategoryWorldHeritageSitesinItaly', 'CategoryBuildingsandstructuresinItaly', 'CategoryAmericanmenbyoccupation', 'CategoryAmericanchildsingers', 'CategoryBritishmalevoiceactors', 'CategoryFrenchspeakingcountriesandterritories', 'CategoryArabicandCentralAsianpoetics', 'CategoryBeatboxers', 'CategoryGeographyoftheSovietUnion', 'CategoryCitiesbytype', 'CategoryBritishsportsbusinesspeople', 'CategoryBritishpeopleofIrishdescent', 'CategoryNewTestamentplaces', 'CategoryWikipediacategoriesnamedafterpopulatedplacesinItaly', 'CategoryPoeticform', 'CategoryMusicbynationality', 'CategoryTouristattractionsinItaly', 'CategoryCapitalsofcountrysubdivisionsinEurope', 'CategoryRadioandtelevisionannouncers', 'CategoryBritishdancemusicians', 'CategoryMusiciansfromTennessee', 'CategoryMalevoiceactorsbynationality', 'CategoryAmericanrhythmandbluesmusiciansbyinstrument', 'CategoryLiberalism', 'CategoryGenresbymedium', 'CategoryMusicawardwinners', 'CategoryEnglishsongwriters', 'CategoryPersianliterature', 'CategoryCultureofIndiandiaspora', 'CategoryEstablishmentsbyyear', 'CategoryMaletelevisionactorsbynationality', 'CategoryFootballpeopleinEngland', 'CategoryCitiesinGermany', 'CategoryCulturalspheresofinfluence', 'CategoryWikipediacategoriesnamedafterpopulatedplacesinRussia', 'CategoryRCARecords', 'CategoryEnglishpeoplebyethnicornationalorigin', 'CategoryCultureofPakistanidiaspora', 'CategoryHistoryofGermanybytopic', 'CategoryOccupationsbytype', 'CategoryDemocracy', 'CategoryBritishsingersongwriters', 'CategoryWikipediacategoriesnamedafterBritishmusicians', 'CategoryG8', 'CategoryRenaissancearchitectureinLazio', 'CategoryCulturalheritageofItaly', 'CategoryGrammyAwards', 'CategoryAmericanpopmusiciansbyinstrument', 'CategoryEntertainmentinIndia', 'CategoryPhonaesthetics', 'CategoryKingdoms', 'CategoryCitiesandtownsinLazio', 'CategorySaintPetersburgGovernorate', 'CategoryBritishmalesingers', 'CategoryEnglishsingersbygenre', 'CategoryEnglishmusicbycity', 'CategoryGermancitystates', 'CategoryCapitals', 'CategoryMusiciansbyband', 'CategoryCountriesbyinternationalorganization', 'CategoryBalticSea', 'CategoryAssociationfootballchairmenandinvestors', 'CategoryMalechildactors', 'CategoryCountriesbycontinent', 'CategoryGeographichistoryofItaly', 'CategoryUnionfortheMediterranean', 'CategoryWikipediacategoriesnamedafterpopulatedplacesinGermany', 'CategoryProtectedareasofItaly', 'CategoryAmericansingersbyvoicetype', 'CategoryBritishexpatriatesintheUnitedStates', 'CategoryPeoplebystatus', 'Category21stcenturyAmericanmusicians', 'CategoryAmericanchildactors', 'CategoryGermaniccountriesandterritories', 'CategoryMediaoccupations', 'CategoryBelgiumNetherlandsrelations', 'Category20thcenturyAmericanactors', 'Category21stcenturymaleactors', 'CategoryAmericanbusinesspeoplebystate', 'CategoryCulturebyethnicity', 'CategoryMiddleEasternculture', 'Category1147establishmentsinRussia', 'CategoryEnglishpopmusicians', 'CategoryHistoryoftheforeignrelationsofFrance', 'CategoryCouncilofEurope', 'CategoryAdministrativeterritorialentitiesbylanguage', 'Category20thcenturyAmericanmusicians', 'CategoryCultureinStokeonTrent', 'CategoryCommunesoftheProvinceofRome', 'CategoryFormerplaces', 'CategoryNSYNC', 'CategoryGeographicaldistributionoftheFrenchlanguage', 'CategoryNordiccountries', 'CategoryAmericanmalesingers', 'CategoryDutchlanguage', 'CategoryEnglishfilmactors', 'Category20thcenturymaleactors', 'CategoryBusinessintheUnitedStates', 'CategoryAmericanmusiciansbygenre', 'CategoryHistoryoftheUnitedNations', 'CategoryActorsfromTennessee', 'CategoryAmericanmusiciansbycity', 'CategoryAmericansingersongwriters', 'CategoryMusicindustry', 'CategoryArtistsbyrecordlabel', 'CategoryStatesandterritoriesestablishedin1867', 'CategoryLiterarytheory', 'CategoryRomancelanguages', 'CategoryEurope', 'CategoryCitiesandtownsinRussia', 'CategorySovietawards', 'CategoryEnglishsingers', 'CategoryAmericanmaleactorsbymedium', 'CategoryAmericantelevisionactors', 'CategoryIndianstylesofmusic']\n",
      "\n"
     ]
    }
   ],
   "source": [
    "for id, vals in clouds.item().items():\n",
    "    if str(id) == '11d2e5f3-9a79-40a4-ae72-3b1447d076cc':\n",
    "        for name, attributes in vals.items():\n",
    "            if name == 'broader':\n",
    "                print('{} : {}'.format(name, attributes))\n",
    "                print()\n",
    "        break"
   ]
  },
  {
   "cell_type": "code",
   "execution_count": null,
   "metadata": {
    "collapsed": true
   },
   "outputs": [],
   "source": []
  }
 ],
 "metadata": {
  "kernelspec": {
   "display_name": "Python 3",
   "language": "python",
   "name": "python3"
  },
  "language_info": {
   "codemirror_mode": {
    "name": "ipython",
    "version": 3
   },
   "file_extension": ".py",
   "mimetype": "text/x-python",
   "name": "python",
   "nbconvert_exporter": "python",
   "pygments_lexer": "ipython3",
   "version": "3.4.5"
  }
 },
 "nbformat": 4,
 "nbformat_minor": 1
}
