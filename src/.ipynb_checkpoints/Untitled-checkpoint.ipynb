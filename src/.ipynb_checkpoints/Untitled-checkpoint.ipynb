{
 "cells": [
  {
   "cell_type": "code",
   "execution_count": 65,
   "metadata": {
    "collapsed": false
   },
   "outputs": [],
   "source": [
    "import pandas as pd\n",
    "import numpy as np\n",
    "from scipy.sparse import *\n",
    "from collections import Counter\n",
    "import logging\n",
    "\n",
    "from sklearn.cluster import KMeans\n",
    "from sklearn.feature_extraction.text import CountVectorizer\n",
    "from sklearn import metrics\n",
    "from sklearn.externals import joblib\n",
    "logging.basicConfig(level=logging.INFO)\n",
    "\n",
    "def load_model():\n",
    "    return joblib.load('../data/doc_cluster.pkl')\n",
    "\n",
    "def save_model(model):\n",
    "    joblib.dump(model,  '../data/doc_cluster.pkl')\n",
    "\n",
    "\n",
    "def prepare_data(path, corpus = [], total_words = []):\n",
    "    data = np.load(path)\n",
    "    event_list = [x for x in data.item().items() if x != []]\n",
    "    for id, event in event_list:\n",
    "        if event != []:\n",
    "            words = [url.rsplit('/', 1)[-1] for url in event[0]]\n",
    "            total_words.append(words)\n",
    "            string = ' '.join(words)\n",
    "            corpus.append(string)\n",
    "\n",
    "    return corpus, total_words\n",
    "\n",
    "\n",
    "def vectorize(corpus):\n",
    "    cv = CountVectorizer()\n",
    "    vec = cv.fit_transform(corpus)\n",
    "    terms = cv.get_feature_names()\n",
    "    return vec, terms\n",
    "\n",
    "\n",
    "def train_model(vector, num_clusters = 4):\n",
    "\n",
    "    km = KMeans(n_clusters=num_clusters, init='k-means++', max_iter=100, n_init=1, verbose=3)\n",
    "\n",
    "    start = time.time()\n",
    "    km.fit(vector)\n",
    "    logging.info(' training took: {}s'.format(time.time() - start))\n",
    "\n",
    "    clusters = km.labels_.tolist()\n",
    "\n",
    "    #print(\"Homogeneity: %0.3f\" % metrics.homogeneity_score(labels, km.labels_))\n",
    "    #print(\"Completeness: %0.3f\" % metrics.completeness_score(labels, km.labels_))\n",
    "    #print(\"V-measure: %0.3f\" % metrics.v_measure_score(labels, km.labels_))\n",
    "    #print(\"Adjusted Rand-Index: %.3f\"\n",
    "          #% metrics.adjusted_rand_score(labels, km.labels_))\n",
    "    #print(\"Silhouette Coefficient: %0.3f\"\n",
    "          #% metrics.silhouette_score(X, km.labels_, sample_size=1000))\n",
    "\n",
    "    print(Counter(clusters))\n",
    "    return km\n"
   ]
  },
  {
   "cell_type": "code",
   "execution_count": 66,
   "metadata": {
    "collapsed": false
   },
   "outputs": [
    {
     "name": "stdout",
     "output_type": "stream",
     "text": [
      "Initialization complete\n",
      "Iteration  0, inertia 28120.000\n",
      "Iteration  1, inertia 24171.228\n",
      "Iteration  2, inertia 24081.294\n",
      "Iteration  3, inertia 24016.884\n",
      "Iteration  4, inertia 23945.514\n",
      "Iteration  5, inertia 23884.471\n",
      "Iteration  6, inertia 23796.402\n",
      "Iteration  7, inertia 23614.256\n",
      "Iteration  8, inertia 23499.034\n",
      "Iteration  9, inertia 23480.098\n",
      "Iteration 10, inertia 23479.088\n",
      "Iteration 11, inertia 23478.656\n",
      "Iteration 12, inertia 23478.250\n",
      "Iteration 13, inertia 23478.041\n",
      "Iteration 14, inertia 23477.897\n",
      "Iteration 15, inertia 23477.722\n",
      "Iteration 16, inertia 23477.356\n",
      "Iteration 17, inertia 23477.017\n",
      "Iteration 18, inertia 23476.728\n",
      "Converged at iteration 18: center shift 0.000000e+00 within tolerance 1.237544e-07\n",
      "Counter({3: 2749, 1: 423, 2: 8, 0: 3})\n"
     ]
    }
   ],
   "source": [
    "path = '../data/spotlight_responses.npy'\n",
    "corpus, vocab = prepare_data(path)\n",
    "vector, terms = vectorize(corpus)\n",
    "model = train_model(vector)"
   ]
  },
  {
   "cell_type": "code",
   "execution_count": null,
   "metadata": {
    "collapsed": true
   },
   "outputs": [],
   "source": [
    "    \n",
    "print(\"Clustering sparse data with %s\" % km)\n",
    "t0 = time()\n",
    "km.fit(X)\n",
    "print(\"done in %0.3fs\" % (time() - t0))\n",
    "print()\n",
    "\n",
    "print(\"Homogeneity: %0.3f\" % metrics.homogeneity_score(labels, km.labels_))\n",
    "print(\"Completeness: %0.3f\" % metrics.completeness_score(labels, km.labels_))\n",
    "print(\"V-measure: %0.3f\" % metrics.v_measure_score(labels, km.labels_))\n",
    "print(\"Adjusted Rand-Index: %.3f\"\n",
    "      % metrics.adjusted_rand_score(labels, km.labels_))\n",
    "print(\"Silhouette Coefficient: %0.3f\"\n",
    "      % metrics.silhouette_score(X, km.labels_, sample_size=1000))\n",
    "\n",
    "print()"
   ]
  }
 ],
 "metadata": {
  "kernelspec": {
   "display_name": "Python 3",
   "language": "python",
   "name": "python3"
  },
  "language_info": {
   "codemirror_mode": {
    "name": "ipython",
    "version": 3
   },
   "file_extension": ".py",
   "mimetype": "text/x-python",
   "name": "python",
   "nbconvert_exporter": "python",
   "pygments_lexer": "ipython3",
   "version": "3.4.5"
  }
 },
 "nbformat": 4,
 "nbformat_minor": 1
}
