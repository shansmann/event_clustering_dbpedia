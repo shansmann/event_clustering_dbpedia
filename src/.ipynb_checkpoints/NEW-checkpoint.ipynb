{
 "cells": [
  {
   "cell_type": "code",
   "execution_count": 1,
   "metadata": {
    "collapsed": true
   },
   "outputs": [],
   "source": [
    "import numpy as np\n",
    "import rdflib\n",
    "from SPARQLWrapper import SPARQLWrapper, JSON\n",
    "import time\n",
    "import copy\n",
    "import logging\n",
    "import re\n",
    "\n",
    "logging.basicConfig(level=logging.WARNING)"
   ]
  },
  {
   "cell_type": "code",
   "execution_count": 2,
   "metadata": {
    "collapsed": true
   },
   "outputs": [],
   "source": [
    "def query(query, result_format = \"JSON\", wrapper = \"http://dbpedia.org/sparql\"):\n",
    "    sparql = SPARQLWrapper(wrapper)\n",
    "    sparql.setQuery(query)\n",
    "    if result_format == \"JSON\":\n",
    "        sparql.setReturnFormat(JSON)\n",
    "    results = sparql.query().convert()\n",
    "    \n",
    "    return results[\"results\"][\"bindings\"]"
   ]
  },
  {
   "cell_type": "code",
   "execution_count": 3,
   "metadata": {
    "collapsed": true
   },
   "outputs": [],
   "source": [
    "def clean_string(string, regex=r'[^a-zA-Z\\s0-9]+'):\n",
    "    \"\"\"\n",
    "    clean string by removing non chars\n",
    "    \"\"\"\n",
    "    return re.sub(regex, '', string)"
   ]
  },
  {
   "cell_type": "code",
   "execution_count": 4,
   "metadata": {
    "collapsed": true
   },
   "outputs": [],
   "source": [
    "def parse_sparql_results(result):\n",
    "    if result:\n",
    "        tmp = []\n",
    "        for entry in result:\n",
    "            #import pdb; pdb.set_trace()\n",
    "            try:\n",
    "                tmp.append(entry['result']['value'].split('/')[-1])\n",
    "            except:\n",
    "                pass\n",
    "        return tmp\n",
    "    else:\n",
    "        return"
   ]
  },
  {
   "cell_type": "code",
   "execution_count": 5,
   "metadata": {
    "collapsed": true
   },
   "outputs": [],
   "source": [
    "def one_hop(word):\n",
    "    res = []\n",
    "    for predicate in ['subClassOf', 'broader', 'category']:\n",
    "        q = create_query(word, predicate)\n",
    "        try:\n",
    "            query_res = query(q)\n",
    "        except:\n",
    "            time.sleep(5)\n",
    "            try:\n",
    "                query_res = query(q)\n",
    "            except:\n",
    "                res.append([])\n",
    "                continue\n",
    "        result = parse_sparql_results(query_res)\n",
    "        if result:\n",
    "            res.append(result)\n",
    "            time.sleep(0.2)\n",
    "        else:\n",
    "            res.append([])\n",
    "    return res"
   ]
  },
  {
   "cell_type": "code",
   "execution_count": 6,
   "metadata": {
    "collapsed": true
   },
   "outputs": [],
   "source": [
    "def create_query(word, predicate):\n",
    "    if predicate == 'category':\n",
    "        string = \"\"\"\n",
    "                    PREFIX dcterms: <http://purl.org/dc/terms/>\n",
    "\n",
    "                    SELECT ?result\n",
    "                    WHERE {\n",
    "                    <%(word)s> dcterms:subject ?result\n",
    "                    }\n",
    "                 \"\"\" % {'word': word}\n",
    "        return string\n",
    "    if predicate == 'subClassOf':\n",
    "        string = \"\"\"\n",
    "                    PREFIX rdfs: <http://www.w3.org/2000/01/rdf-schema#>\n",
    "\n",
    "                    SELECT DISTINCT ?result\n",
    "                    WHERE {\n",
    "                      <%(word)s> a ?c1 ; a ?result .\n",
    "                      ?c1 rdfs:subClassOf? ?result .\n",
    "                    }\n",
    "                 \"\"\" % {'word': word}\n",
    "        return string\n",
    "    \n",
    "    if predicate == 'broader':\n",
    "        string = \"\"\"\n",
    "                    PREFIX skos: <http://www.w3.org/2004/02/skos/core#>\n",
    "                    PREFIX dcterms: <http://purl.org/dc/terms/>\n",
    "\n",
    "                    select ?result\n",
    "                    WHERE { \n",
    "                      <%(word)s> dcterms:subject ?o .\n",
    "                      ?o skos:broader ?result \n",
    "                    }\n",
    "                 \"\"\" % {'word': word}\n",
    "        return string\n",
    "    \n",
    "    return string"
   ]
  },
  {
   "cell_type": "code",
   "execution_count": 7,
   "metadata": {
    "collapsed": false
   },
   "outputs": [],
   "source": [
    "path = '../data/spotlight_responses.npy'\n",
    "\n",
    "data = np.load(path)"
   ]
  },
  {
   "cell_type": "code",
   "execution_count": 8,
   "metadata": {
    "collapsed": true
   },
   "outputs": [],
   "source": [
    "# features\n",
    "\n",
    "#resources\n",
    "#subClassOf\n",
    "#broader\n",
    "#types\n",
    "#categories\n",
    "\n"
   ]
  },
  {
   "cell_type": "code",
   "execution_count": 9,
   "metadata": {
    "collapsed": false
   },
   "outputs": [],
   "source": [
    "def prepare_data(event_data):\n",
    "    data = {}\n",
    "    for key, resources in event_data.item().items():\n",
    "        if resources:\n",
    "            \n",
    "            # collect all resources & types from spotlight responses\n",
    "            res_list = []\n",
    "            type_list = []\n",
    "\n",
    "            for resource in resources[0]:\n",
    "                results = list(resource.values())[0]\n",
    "                res_list.append(results[0])\n",
    "                \n",
    "                # if types are found:\n",
    "                if results[1] != '':\n",
    "                    type_list.append(results[1])\n",
    "                \n",
    "            data[key] = {'resources': res_list, 'types': type_list}\n",
    "        \n",
    "        else:\n",
    "            continue\n",
    "    return data"
   ]
  },
  {
   "cell_type": "code",
   "execution_count": 10,
   "metadata": {
    "collapsed": false
   },
   "outputs": [],
   "source": [
    "processed_data = prepare_data(data)"
   ]
  },
  {
   "cell_type": "code",
   "execution_count": null,
   "metadata": {
    "collapsed": false
   },
   "outputs": [],
   "source": [
    "def enrich_data(proc_data):\n",
    "    \n",
    "    logging.warning(' events found: {}'.format(len(proc_data.items())))\n",
    "    \n",
    "    n_req = 0\n",
    "    \n",
    "    for i, (key, value) in enumerate(proc_data.items()):\n",
    "        \n",
    "        resources = value['resources']\n",
    "        \n",
    "        n_req += len(resources)\n",
    "        \n",
    "        subClassOf = []\n",
    "        broader = []\n",
    "        categories = []\n",
    "        \n",
    "        for entry in resources:\n",
    "            #import pdb; pdb.set_trace()\n",
    "            results = one_hop(entry)\n",
    "            subClassOf.append([clean_string(x) for x in results[0]])\n",
    "            broader.append([clean_string(x) for x in results[1]])\n",
    "            categories.append([clean_string(x) for x in results[2]])\n",
    "               \n",
    "        proc_data[key]['subClassOf'] = list(set([item for sublist in subClassOf for item in sublist]))\n",
    "        proc_data[key]['broader'] = list(set([item for sublist in broader for item in sublist]))\n",
    "        proc_data[key]['categories'] = list(set([item for sublist in categories for item in sublist]))\n",
    "        \n",
    "        if (i + 1) % 10 == 0:\n",
    "            logging.warning(' finished {} requests'.format(n_req))\n",
    "            n_req = 0\n",
    "\n",
    "    return proc_data"
   ]
  },
  {
   "cell_type": "code",
   "execution_count": null,
   "metadata": {
    "collapsed": false
   },
   "outputs": [
    {
     "name": "stderr",
     "output_type": "stream",
     "text": [
      "WARNING:root: events found: 26\n",
      "WARNING:root: finished 44 requests\n"
     ]
    }
   ],
   "source": [
    "bla = enrich_data(processed_data)"
   ]
  },
  {
   "cell_type": "code",
   "execution_count": null,
   "metadata": {
    "collapsed": false
   },
   "outputs": [],
   "source": [
    "bla['-KYGWvCQuzPXd6Kb-Gwp']"
   ]
  },
  {
   "cell_type": "code",
   "execution_count": null,
   "metadata": {
    "collapsed": true
   },
   "outputs": [],
   "source": []
  }
 ],
 "metadata": {
  "kernelspec": {
   "display_name": "Python 3",
   "language": "python",
   "name": "python3"
  },
  "language_info": {
   "codemirror_mode": {
    "name": "ipython",
    "version": 3
   },
   "file_extension": ".py",
   "mimetype": "text/x-python",
   "name": "python",
   "nbconvert_exporter": "python",
   "pygments_lexer": "ipython3",
   "version": "3.4.5"
  }
 },
 "nbformat": 4,
 "nbformat_minor": 1
}
