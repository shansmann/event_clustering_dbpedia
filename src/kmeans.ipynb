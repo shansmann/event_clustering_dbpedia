{
 "cells": [
  {
   "cell_type": "code",
   "execution_count": 1,
   "metadata": {
    "collapsed": true
   },
   "outputs": [],
   "source": [
    "import pandas as pd\n",
    "import numpy as np\n",
    "from scipy.sparse import *\n",
    "from collections import Counter\n",
    "from heapq import nsmallest\n",
    "import re\n",
    "import matplotlib.pyplot as plt\n",
    "%matplotlib inline\n",
    "\n",
    "from sklearn.feature_extraction import DictVectorizer\n",
    "from sklearn.cluster import KMeans\n",
    "from sklearn.externals import joblib"
   ]
  },
  {
   "cell_type": "code",
   "execution_count": 2,
   "metadata": {
    "collapsed": true
   },
   "outputs": [],
   "source": [
    "path = '../data/eventclouds.npy'\n",
    "\n",
    "data = np.load(path)"
   ]
  },
  {
   "cell_type": "code",
   "execution_count": 3,
   "metadata": {
    "collapsed": false
   },
   "outputs": [],
   "source": [
    "#data"
   ]
  },
  {
   "cell_type": "code",
   "execution_count": 4,
   "metadata": {
    "collapsed": false
   },
   "outputs": [],
   "source": [
    "def get_words_from_data(data):\n",
    "    cat_list = []\n",
    "    for id, event in data.item().items():\n",
    "        # event\n",
    "        for feature, resources in event.items():\n",
    "            # dbpedia answers    \n",
    "            cat_list.append(resources)\n",
    "\n",
    "    # flatten\n",
    "    return [item for sublist in cat_list for item in sublist]"
   ]
  },
  {
   "cell_type": "code",
   "execution_count": 5,
   "metadata": {
    "collapsed": true
   },
   "outputs": [],
   "source": [
    "def get_most_common(words, n):\n",
    "    c = Counter(words)\n",
    "    return [x[0] for x in c.most_common(n)]"
   ]
  },
  {
   "cell_type": "code",
   "execution_count": 6,
   "metadata": {
    "collapsed": false
   },
   "outputs": [],
   "source": [
    "word_list = get_words_from_data(data)\n",
    "stop = get_most_common(word_list, 50)\n",
    "stop.append('DULowlAgent')\n",
    "stop.append('Agent')"
   ]
  },
  {
   "cell_type": "code",
   "execution_count": 7,
   "metadata": {
    "collapsed": false
   },
   "outputs": [],
   "source": [
    "def prepare_data(data, filter_data=[]):\n",
    "    X = []\n",
    "    for key, values in data.item().items():\n",
    "        #event\n",
    "        row = {}\n",
    "        for feature, resources in values.items():\n",
    "            \n",
    "            # filter attributes\n",
    "            if feature not in ['resources', 'categories']:\n",
    "                continue\n",
    "                #pass\n",
    "            \n",
    "            if filter_data:\n",
    "                res = [x for x in resources if x not in filter_data]\n",
    "            else:\n",
    "                res = resources\n",
    "            \n",
    "            # change data format for vectorizing\n",
    "            tmp = [feature + '=' + x for x in res]\n",
    "            \n",
    "            for entry in tmp:\n",
    "                row[entry] = True\n",
    "        X.append(row)\n",
    "    return X"
   ]
  },
  {
   "cell_type": "code",
   "execution_count": 8,
   "metadata": {
    "collapsed": false
   },
   "outputs": [],
   "source": [
    "D = prepare_data(data, stop)"
   ]
  },
  {
   "cell_type": "code",
   "execution_count": 9,
   "metadata": {
    "collapsed": true
   },
   "outputs": [],
   "source": [
    "v = DictVectorizer(sparse=True)\n",
    "X = v.fit_transform(D)"
   ]
  },
  {
   "cell_type": "code",
   "execution_count": 10,
   "metadata": {
    "collapsed": false
   },
   "outputs": [],
   "source": [
    "feature_occ = v.get_feature_names()"
   ]
  },
  {
   "cell_type": "code",
   "execution_count": 11,
   "metadata": {
    "collapsed": false
   },
   "outputs": [
    {
     "name": "stdout",
     "output_type": "stream",
     "text": [
      "CPU times: user 215 ms, sys: 1.31 ms, total: 216 ms\n",
      "Wall time: 216 ms\n"
     ]
    }
   ],
   "source": [
    "from sklearn.cluster import KMeans\n",
    "\n",
    "num_clusters = 3\n",
    "\n",
    "km = KMeans(n_clusters=num_clusters)\n",
    "\n",
    "%time km.fit(X)\n",
    "\n",
    "clusters = km.labels_.tolist()"
   ]
  },
  {
   "cell_type": "code",
   "execution_count": 12,
   "metadata": {
    "collapsed": true
   },
   "outputs": [],
   "source": [
    "test = km.transform(X)"
   ]
  },
  {
   "cell_type": "code",
   "execution_count": 13,
   "metadata": {
    "collapsed": false
   },
   "outputs": [],
   "source": [
    "def calculate_confidence(transformed_x):\n",
    "    # calculate confidence\n",
    "    scores = []\n",
    "    for distances in transformed_x:\n",
    "        #print(distances)\n",
    "        dist = 100 - distances\n",
    "        #norm = [float(i)/sum(dist) for i in dist]\n",
    "        #print(norm)\n",
    "        #confidence = min(norm)\n",
    "        \n",
    "        #use min dist for now\n",
    "        confidence = min(distances)\n",
    "        scores.append(confidence)\n",
    "        \n",
    "    return scores"
   ]
  },
  {
   "cell_type": "code",
   "execution_count": 14,
   "metadata": {
    "collapsed": false
   },
   "outputs": [],
   "source": [
    "confidences = calculate_confidence(test)"
   ]
  },
  {
   "cell_type": "code",
   "execution_count": 15,
   "metadata": {
    "collapsed": false
   },
   "outputs": [],
   "source": [
    "frame = pd.DataFrame(data.item()).transpose()\n",
    "frame.columns = ['broader', 'categories', 'resources', 'subClassOf', 'types']\n",
    "frame['cluster'] = pd.Series(clusters).values\n",
    "frame['min_dist'] = pd.Series(confidences).values\n",
    "frame.reset_index(level=0, inplace=True)"
   ]
  },
  {
   "cell_type": "code",
   "execution_count": 16,
   "metadata": {
    "collapsed": false
   },
   "outputs": [
    {
     "data": {
      "text/html": [
       "<div>\n",
       "<table border=\"1\" class=\"dataframe\">\n",
       "  <thead>\n",
       "    <tr style=\"text-align: right;\">\n",
       "      <th></th>\n",
       "      <th>index</th>\n",
       "      <th>broader</th>\n",
       "      <th>categories</th>\n",
       "      <th>resources</th>\n",
       "      <th>subClassOf</th>\n",
       "      <th>types</th>\n",
       "      <th>cluster</th>\n",
       "      <th>min_dist</th>\n",
       "    </tr>\n",
       "  </thead>\n",
       "  <tbody>\n",
       "    <tr>\n",
       "      <th>0</th>\n",
       "      <td>004edefe-4d2b-41f9-aa08-7b31a00be98a</td>\n",
       "      <td>[CategoryPoliticalpartywings, Category1933esta...</td>\n",
       "      <td>[CategoryAdolfHitler, CategoryNaziPartyorganiz...</td>\n",
       "      <td>[Sturmabteilung]</td>\n",
       "      <td>[Agent, WikicatParamilitaryOrganizationsOfTheW...</td>\n",
       "      <td>[DBpediaAgentSchemaOrganizationDBpediaOrganisa...</td>\n",
       "      <td>0</td>\n",
       "      <td>7.304355</td>\n",
       "    </tr>\n",
       "    <tr>\n",
       "      <th>1</th>\n",
       "      <td>00bd553c-01a3-40f0-bb92-0b65e613e3ab</td>\n",
       "      <td>[CategoryTelevisionseriesbystudio, CategoryEng...</td>\n",
       "      <td>[CategoryTelevisionseriesbyUniversalTelevision...</td>\n",
       "      <td>[SmashTVseries, Bros]</td>\n",
       "      <td>[Agent, Ending106308765, TelevisionShow, Actio...</td>\n",
       "      <td>[SchemaCreativeWorkDBpediaWorkDBpediaTelevisio...</td>\n",
       "      <td>0</td>\n",
       "      <td>2.594642</td>\n",
       "    </tr>\n",
       "    <tr>\n",
       "      <th>2</th>\n",
       "      <td>00cd0148-2e35-4077-86a9-d9da8528a6bc</td>\n",
       "      <td>[CategoryArtsoccupations, CategoryWikipediacat...</td>\n",
       "      <td>[CategoryPopulatedplacesestablishedinthe13thce...</td>\n",
       "      <td>[Makeupartist, Berlin]</td>\n",
       "      <td>[Location100027167, WikicatStatesAndTerritorie...</td>\n",
       "      <td>[SchemaPlaceDBpediaPlaceDBpediaPopulatedPlaceD...</td>\n",
       "      <td>0</td>\n",
       "      <td>16.745043</td>\n",
       "    </tr>\n",
       "    <tr>\n",
       "      <th>3</th>\n",
       "      <td>038a05d1-5315-4470-87ea-5e8522bc67b7</td>\n",
       "      <td>[CategoryEntertainmentcompaniesestablishedin20...</td>\n",
       "      <td>[CategoryRecordlabelsestablishedin2006, Catego...</td>\n",
       "      <td>[MercedesBenzArena, Berlin, Fireworks, Fascina...</td>\n",
       "      <td>[SocialEvent107288639, PhysicalEntity100001930...</td>\n",
       "      <td>[SchemaPlaceDBpediaPlaceDBpediaSportFacilitySc...</td>\n",
       "      <td>0</td>\n",
       "      <td>3.006545</td>\n",
       "    </tr>\n",
       "    <tr>\n",
       "      <th>4</th>\n",
       "      <td>03a1921a-869a-444d-9963-0cfa56c135f1</td>\n",
       "      <td>[CategoryNationalsportsteamsofTogo, CategoryAs...</td>\n",
       "      <td>[CategoryTogonationalfootballteam, CategoryAfr...</td>\n",
       "      <td>[Togonationalfootballteam]</td>\n",
       "      <td>[Team108208560, SoccerClub, Agent, YagoLegalAc...</td>\n",
       "      <td>[DBpediaAgentSchemaOrganizationDBpediaOrganisa...</td>\n",
       "      <td>0</td>\n",
       "      <td>3.430435</td>\n",
       "    </tr>\n",
       "  </tbody>\n",
       "</table>\n",
       "</div>"
      ],
      "text/plain": [
       "                                  index  \\\n",
       "0  004edefe-4d2b-41f9-aa08-7b31a00be98a   \n",
       "1  00bd553c-01a3-40f0-bb92-0b65e613e3ab   \n",
       "2  00cd0148-2e35-4077-86a9-d9da8528a6bc   \n",
       "3  038a05d1-5315-4470-87ea-5e8522bc67b7   \n",
       "4  03a1921a-869a-444d-9963-0cfa56c135f1   \n",
       "\n",
       "                                             broader  \\\n",
       "0  [CategoryPoliticalpartywings, Category1933esta...   \n",
       "1  [CategoryTelevisionseriesbystudio, CategoryEng...   \n",
       "2  [CategoryArtsoccupations, CategoryWikipediacat...   \n",
       "3  [CategoryEntertainmentcompaniesestablishedin20...   \n",
       "4  [CategoryNationalsportsteamsofTogo, CategoryAs...   \n",
       "\n",
       "                                          categories  \\\n",
       "0  [CategoryAdolfHitler, CategoryNaziPartyorganiz...   \n",
       "1  [CategoryTelevisionseriesbyUniversalTelevision...   \n",
       "2  [CategoryPopulatedplacesestablishedinthe13thce...   \n",
       "3  [CategoryRecordlabelsestablishedin2006, Catego...   \n",
       "4  [CategoryTogonationalfootballteam, CategoryAfr...   \n",
       "\n",
       "                                           resources  \\\n",
       "0                                   [Sturmabteilung]   \n",
       "1                              [SmashTVseries, Bros]   \n",
       "2                             [Makeupartist, Berlin]   \n",
       "3  [MercedesBenzArena, Berlin, Fireworks, Fascina...   \n",
       "4                         [Togonationalfootballteam]   \n",
       "\n",
       "                                          subClassOf  \\\n",
       "0  [Agent, WikicatParamilitaryOrganizationsOfTheW...   \n",
       "1  [Agent, Ending106308765, TelevisionShow, Actio...   \n",
       "2  [Location100027167, WikicatStatesAndTerritorie...   \n",
       "3  [SocialEvent107288639, PhysicalEntity100001930...   \n",
       "4  [Team108208560, SoccerClub, Agent, YagoLegalAc...   \n",
       "\n",
       "                                               types  cluster   min_dist  \n",
       "0  [DBpediaAgentSchemaOrganizationDBpediaOrganisa...        0   7.304355  \n",
       "1  [SchemaCreativeWorkDBpediaWorkDBpediaTelevisio...        0   2.594642  \n",
       "2  [SchemaPlaceDBpediaPlaceDBpediaPopulatedPlaceD...        0  16.745043  \n",
       "3  [SchemaPlaceDBpediaPlaceDBpediaSportFacilitySc...        0   3.006545  \n",
       "4  [DBpediaAgentSchemaOrganizationDBpediaOrganisa...        0   3.430435  "
      ]
     },
     "execution_count": 16,
     "metadata": {},
     "output_type": "execute_result"
    }
   ],
   "source": [
    "frame.head()"
   ]
  },
  {
   "cell_type": "code",
   "execution_count": 17,
   "metadata": {
    "collapsed": false
   },
   "outputs": [
    {
     "data": {
      "text/html": [
       "<div>\n",
       "<table border=\"1\" class=\"dataframe\">\n",
       "  <thead>\n",
       "    <tr style=\"text-align: right;\">\n",
       "      <th></th>\n",
       "      <th>index</th>\n",
       "      <th>title</th>\n",
       "    </tr>\n",
       "  </thead>\n",
       "  <tbody>\n",
       "    <tr>\n",
       "      <th>0</th>\n",
       "      <td>39901055-b448-4c16-8c9a-27d8ed7eff3b</td>\n",
       "      <td>Stimmen aus Tschernobyl - Chronik der Zukunft</td>\n",
       "    </tr>\n",
       "    <tr>\n",
       "      <th>1</th>\n",
       "      <td>72034943-c426-4911-b239-25f26beb48df</td>\n",
       "      <td>Anamnese in der HPP Praxis</td>\n",
       "    </tr>\n",
       "    <tr>\n",
       "      <th>2</th>\n",
       "      <td>f0a72c38-9ab6-4c4c-a91b-6211de9b1167</td>\n",
       "      <td>Lady's Night</td>\n",
       "    </tr>\n",
       "    <tr>\n",
       "      <th>3</th>\n",
       "      <td>52c35a5c-1a0a-478f-972c-a40280579847</td>\n",
       "      <td>Vodka Energy Party</td>\n",
       "    </tr>\n",
       "    <tr>\n",
       "      <th>4</th>\n",
       "      <td>bf08460d-4223-4d21-bd24-b134681583dd</td>\n",
       "      <td>Tag der offenen Tür</td>\n",
       "    </tr>\n",
       "  </tbody>\n",
       "</table>\n",
       "</div>"
      ],
      "text/plain": [
       "                                  index  \\\n",
       "0  39901055-b448-4c16-8c9a-27d8ed7eff3b   \n",
       "1  72034943-c426-4911-b239-25f26beb48df   \n",
       "2  f0a72c38-9ab6-4c4c-a91b-6211de9b1167   \n",
       "3  52c35a5c-1a0a-478f-972c-a40280579847   \n",
       "4  bf08460d-4223-4d21-bd24-b134681583dd   \n",
       "\n",
       "                                           title  \n",
       "0  Stimmen aus Tschernobyl - Chronik der Zukunft  \n",
       "1                     Anamnese in der HPP Praxis  \n",
       "2                                   Lady's Night  \n",
       "3                             Vodka Energy Party  \n",
       "4                            Tag der offenen Tür  "
      ]
     },
     "execution_count": 17,
     "metadata": {},
     "output_type": "execute_result"
    }
   ],
   "source": [
    "lookup = np.load('../data/event_lookup.npy')\n",
    "lookup = pd.DataFrame(lookup, columns = ['index', 'title'])\n",
    "lookup.head()\n",
    "\n",
    "#frame.loc['-KcBAZuiALnRgx2KE0yN']\n",
    "#df.head()"
   ]
  },
  {
   "cell_type": "code",
   "execution_count": 18,
   "metadata": {
    "collapsed": false
   },
   "outputs": [],
   "source": [
    "hansi = pd.merge(frame, lookup, how='left', on='index')"
   ]
  },
  {
   "cell_type": "code",
   "execution_count": 19,
   "metadata": {
    "collapsed": false
   },
   "outputs": [
    {
     "data": {
      "text/plain": [
       "0    280\n",
       "2     33\n",
       "1     15\n",
       "Name: cluster, dtype: int64"
      ]
     },
     "execution_count": 19,
     "metadata": {},
     "output_type": "execute_result"
    }
   ],
   "source": [
    "hansi['cluster'].value_counts()"
   ]
  },
  {
   "cell_type": "code",
   "execution_count": 20,
   "metadata": {
    "collapsed": true
   },
   "outputs": [],
   "source": [
    "def clean_string(string, regex=r'[a-zA-Z0-9]*='):\n",
    "    \"\"\"\n",
    "    clean string by removing non chars\n",
    "    \"\"\"\n",
    "    tmp = re.sub(regex, '', string)\n",
    "    return re.sub('(?<=[a-zA-Z])\\d+$', '', tmp)"
   ]
  },
  {
   "cell_type": "code",
   "execution_count": 30,
   "metadata": {
    "collapsed": false
   },
   "outputs": [
    {
     "name": "stdout",
     "output_type": "stream",
     "text": [
      "Top terms per cluster:\n",
      "\n",
      "Cluster: 0, Entries: 280, top 20 features: \n",
      "\n",
      "CategoryMembersoftheHanseaticLeague\n",
      "CategoryPopulatedplacesestablishedinthe13thcentury\n",
      "CategoryBerlin\n",
      "Category1237establishments\n",
      "CategoryArticlescontainingvideoclips\n",
      "CategoryDisco\n",
      "CategoryAfricanAmericanmusic\n",
      "CategoryMediaoccupations\n",
      "CategoryOccupationsinmusic\n",
      "CategoryUniversitytownsinGermany\n",
      "Discjockey\n",
      "CategoryDJing\n",
      "CategoryAudiomixing\n",
      "CategoryBroadcastingoccupations\n",
      "CategoryLivingpeople\n",
      "CategoryRadiopresenters\n",
      "CategoryMemberstatesoftheUnitedNations\n",
      "CategoryFormerboroughsofBerlin\n",
      "CategoryLiberaldemocracies\n",
      "CategoryLocalitiesofBerlin\n",
      "\n",
      "\n",
      "Cluster: 1, Entries: 15, top 20 features: \n",
      "\n",
      "CategoryStresstimedlanguages\n",
      "CategoryLanguagesofIreland\n",
      "CategoryLanguagesofSingapore\n",
      "CategoryLanguagesoftheSolomonIslands\n",
      "CategoryLanguagesofLiberia\n",
      "CategoryLanguagesofLesotho\n",
      "CategoryLanguagesofKiribati\n",
      "CategoryLanguagesofKenya\n",
      "CategoryLanguagesofJamaica\n",
      "CategoryEnglishlanguages\n",
      "CategoryLanguagesofIndia\n",
      "CategoryLanguagesofSouthSudan\n",
      "CategoryLanguagesofHongKong\n",
      "CategoryLanguagesofSamoa\n",
      "CategoryLanguagesofGuyana\n",
      "CategoryLanguagesofSouthAfrica\n",
      "CategorySubjectverbobjectlanguages\n",
      "CategoryLanguagesofGuam\n",
      "CategoryLanguagesofGrenada\n",
      "CategoryEnglishlanguage\n",
      "\n",
      "\n",
      "Cluster: 2, Entries: 33, top 20 features: \n",
      "\n",
      "CategoryMemberstatesoftheCouncilofEurope\n",
      "CategoryCountriesinEurope\n",
      "CategoryMemberstatesofNATO\n",
      "CategoryMemberstatesoftheUnitedNations\n",
      "CategoryMemberstatesoftheUnionfortheMediterranean\n",
      "CategoryLiberaldemocracies\n",
      "CategoryMemberstatesoftheEuropeanUnion\n",
      "CategoryWesternEurope\n",
      "CategoryG20nations\n",
      "CategoryG7nations\n",
      "CategoryG8nations\n",
      "CategoryArticlescontainingvideoclips\n",
      "CategoryMembersoftheHanseaticLeague\n",
      "CategoryPopulatedplacesestablishedinthe13thcentury\n",
      "CategoryBerlin\n",
      "Category1237establishments\n",
      "CategoryCentralEurope\n",
      "CategoryGermaniccountriesandterritories\n",
      "CategoryFederalrepublics\n",
      "CategoryGermany\n",
      "\n",
      "\n"
     ]
    }
   ],
   "source": [
    "from __future__ import print_function\n",
    "\n",
    "print(\"Top terms per cluster:\")\n",
    "print()\n",
    "\n",
    "top_n = 20\n",
    "\n",
    "order_centroids = km.cluster_centers_.argsort()[:, ::-1]\n",
    "for i in range(num_clusters):\n",
    "    print(\"Cluster: {i}, Entries: {e}, top {t} features: \\n\".format(i = i, e = hansi['cluster'].value_counts()[i], t = top_n))\n",
    "    for ind in order_centroids[i, :top_n]:\n",
    "        #print(ind)\n",
    "        feature = v.get_feature_names()[ind]\n",
    "        print(clean_string(feature))\n",
    "        #print(feature)\n",
    "    print()\n",
    "    print()"
   ]
  },
  {
   "cell_type": "code",
   "execution_count": 22,
   "metadata": {
    "collapsed": false
   },
   "outputs": [
    {
     "data": {
      "text/plain": [
       "['../data/doc_cluster.pkl']"
      ]
     },
     "execution_count": 22,
     "metadata": {},
     "output_type": "execute_result"
    }
   ],
   "source": [
    "from sklearn.externals import joblib\n",
    "\n",
    "joblib.dump(km,  '../data/doc_cluster.pkl')\n",
    "#km = joblib.load('../data/doc_cluster.pkl')\n"
   ]
  },
  {
   "cell_type": "code",
   "execution_count": 36,
   "metadata": {
    "collapsed": false
   },
   "outputs": [
    {
     "data": {
      "image/png": "[encoded data removed]",
      "text/plain": [
       "<matplotlib.figure.Figure at 0x1159bb048>"
      ]
     },
     "metadata": {},
     "output_type": "display_data"
    }
   ],
   "source": [
    "plt.figure(figsize=(6, 6))\n",
    "liste = []\n",
    "labels = []\n",
    "for i in range(num_clusters):\n",
    "    #print(hansi.loc[hansi['cluster'] == i]['min_dist'].values)\n",
    "    tmp = hansi.loc[hansi['cluster'] == i]['min_dist'].values\n",
    "    liste.append(tmp)\n",
    "    labels.append('cluster {}'.format(i))\n",
    "plt.boxplot(liste)\n",
    "plt.xticks(range(1,4), labels, rotation='vertical')\n",
    "plt.tight_layout()\n",
    "plt.savefig('confidence.png')\n",
    "plt.show()\n"
   ]
  },
  {
   "cell_type": "code",
   "execution_count": 24,
   "metadata": {
    "collapsed": false
   },
   "outputs": [],
   "source": [
    "top_5 = hansi.sort_values(by=['min_dist'],ascending=True).groupby('cluster').head(5)"
   ]
  },
  {
   "cell_type": "code",
   "execution_count": 25,
   "metadata": {
    "collapsed": false
   },
   "outputs": [
    {
     "data": {
      "text/plain": [
       "26                               Die Jungs von Bibi&Tina\n",
       "124                    Creepy Crypt no.45: Sneak Preview\n",
       "162    PASCOW - Dosenbier und Popcorn noir // Conne I...\n",
       "262                                  Der Audi Q5- Brunch\n",
       "313    J S Bach Kantate Nr 156 Ich steh mit einem Fuß...\n",
       "Name: title, dtype: object"
      ]
     },
     "execution_count": 25,
     "metadata": {},
     "output_type": "execute_result"
    }
   ],
   "source": [
    "top_5.loc[top_5['cluster'] == 1]['title']"
   ]
  },
  {
   "cell_type": "code",
   "execution_count": 26,
   "metadata": {
    "collapsed": false
   },
   "outputs": [
    {
     "name": "stdout",
     "output_type": "stream",
     "text": [
      "Top 15 titles per cluster:\n",
      "\n",
      "cluster 0:\n",
      "Boot Düsseldorf\n",
      "Grand Acid + Shaun\n",
      "Oscar Mulero, Rebekah im Lehmann Club\n",
      "Herr Kluge und ein Dinosaurier in der Schule\n",
      "BoomFit Training im Volkspark Friedrichshain\n",
      "Der Audi Q-Brunch\n",
      "Astronavigationstörn / SHS Ausbildungstörn\n",
      "Morgenprogramm\n",
      "Wir haben es satt! – Demonstration\n",
      "EuroPendent Rock mit Straight Ahead, Opalaxy, KOA, Blue Medow\n",
      "Crafts & Cakes\n",
      "Pferde Rouladenessen\n",
      "Papa Kangatraining in Charlottenburg\n",
      "Marepe: Suave na nave\n",
      "Stoffmarkt am Maybachufer\n",
      "\n",
      "cluster 1:\n",
      "Die Jungs von Bibi&Tina\n",
      "Creepy Crypt no.45: Sneak Preview\n",
      "PASCOW - Dosenbier und Popcorn noir // Conne Island Leipzig\n",
      "Der Audi Q5- Brunch\n",
      "J S Bach Kantate Nr 156 Ich steh mit einem Fuß im Grabe\n",
      "Action-Sport auf der Messe boot\n",
      "Another Saturday Night feat. Michael Brinkworth &30th Bday bash!\n",
      "Auswärtsspiel gegen City Basket Berli\n",
      "BERLinsane // Sa 21. Januar // Matrix\n",
      "Watergate Showcase w/ Matthias Meyer y Hyenah\n",
      "CRAZY SEXY POWERFUL Workshop by KIM STOLIC\n",
      "D R E a M T I M E F I N I S S a G E\n",
      "TV aus der Hosentasche\n",
      "EVOPE Workshop: Upper Body Strength Level 1\n",
      "Sprach-Kochkurs: Israel\n",
      "\n",
      "cluster 2:\n",
      "Keep It Classy // Sa.21.Jan // Felix Club\n",
      "Sing On Stage with Shredder\n",
      "Picknick presents I Love Engtanz\n",
      "Eisbein und Schnitzelessen\n",
      "Buttons /// Butt Plug Woodoo\n",
      "Catalogue Launch: The Others curated by Elmgreen & Dragset\n",
      "Florian Herzberg DJ Set (My Secret Session)\n",
      "Einladung zum Event Audi Q5 und Audi A5 Sportback\n",
      "Noise is the Message (Hard Dnb / Hardtechno) at Void Berlin\n",
      "Konzert zum Reformationsjubiläum\n",
      "Volle Hütte bei Toyota ! Wir feiern die Premiere vom Toyota C-HR\n",
      "BOBBY Rausch at Kellergedeck, Ben Böhmer, Marion Cobretti\n",
      "Neueröffnung! Koch bringt Honda nach Marzahn\n",
      "Foto-Crashkurs\n",
      "Chart Party\n",
      "\n"
     ]
    }
   ],
   "source": [
    "n = 15\n",
    "\n",
    "print('Top {} titles per cluster:'.format(n))\n",
    "print()\n",
    "for i in range(num_clusters):\n",
    "    print('cluster {}:'.format(i))\n",
    "    tmp = hansi.sort_values(by=['min_dist'],ascending=True).groupby('cluster').head(n)\n",
    "    titles = tmp.loc[tmp['cluster'] == i]['title']\n",
    "    for entry in titles:\n",
    "        print(entry)\n",
    "    print()\n",
    "    "
   ]
  },
  {
   "cell_type": "code",
   "execution_count": 33,
   "metadata": {
    "collapsed": false
   },
   "outputs": [
    {
     "data": {
      "image/png": "[encoded data removed]",
      "text/plain": [
       "<matplotlib.figure.Figure at 0x1150f8eb8>"
      ]
     },
     "metadata": {},
     "output_type": "display_data"
    }
   ],
   "source": [
    "sums = hansi['min_dist'].groupby(hansi.cluster).sum()\n",
    "plt.axis('equal')\n",
    "plt.pie(sums, labels=['cluster {}'.format(x) for x in sums.index])\n",
    "plt.tight_layout()\n",
    "plt.savefig('pie.png')\n",
    "plt.show()"
   ]
  },
  {
   "cell_type": "code",
   "execution_count": null,
   "metadata": {
    "collapsed": true
   },
   "outputs": [],
   "source": []
  }
 ],
 "metadata": {
  "kernelspec": {
   "display_name": "Python 3",
   "language": "python",
   "name": "python3"
  },
  "language_info": {
   "codemirror_mode": {
    "name": "ipython",
    "version": 3
   },
   "file_extension": ".py",
   "mimetype": "text/x-python",
   "name": "python",
   "nbconvert_exporter": "python",
   "pygments_lexer": "ipython3",
   "version": "3.4.5"
  }
 },
 "nbformat": 4,
 "nbformat_minor": 1
}
